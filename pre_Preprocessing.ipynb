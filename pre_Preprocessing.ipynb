{
  "nbformat": 4,
  "nbformat_minor": 0,
  "metadata": {
    "colab": {
      "name": "pre_Preprocessing.ipynb",
      "provenance": []
    },
    "kernelspec": {
      "name": "python3",
      "display_name": "Python 3"
    }
  },
  "cells": [
    {
      "cell_type": "code",
      "metadata": {
        "id": "MvX2kStrGzJe",
        "colab_type": "code",
        "colab": {}
      },
      "source": [
        "from keras.preprocessing.sequence import pad_sequences\n",
        "import os\n",
        "import fnmatch\n",
        "import cv2\n",
        "import numpy as np\n",
        "import string\n",
        "import time\n",
        "import sys"
      ],
      "execution_count": 1,
      "outputs": []
    },
    {
      "cell_type": "code",
      "metadata": {
        "id": "7kGA_XPqG1IB",
        "colab_type": "code",
        "colab": {}
      },
      "source": [
        "# char_list:   'abcdefghijklmnopqrstuvwxyzABCDEFGHIJKLMNOPQRSTUVWXYZ0123456789'\n",
        "# total number of our output classes: len(char_list)\n",
        "char_list = string.ascii_letters+string.digits\n",
        " \n",
        "def encode_to_labels(txt):\n",
        "    # encoding each output word into digits\n",
        "    dig_lst = []\n",
        "    for index, char in enumerate(txt):\n",
        "        try:\n",
        "            dig_lst.append(char_list.index(char))\n",
        "        except:\n",
        "            print(char)\n",
        "        \n",
        "    return dig_lst"
      ],
      "execution_count": 2,
      "outputs": []
    },
    {
      "cell_type": "code",
      "metadata": {
        "id": "3q3sMzA3G8EQ",
        "colab_type": "code",
        "colab": {}
      },
      "source": [
        "\n",
        "path = '/content/mnt/ramdisk/max/90kDICT32px'\n",
        " \n",
        "# lists for training dataset\n",
        "training_img = np.zeros((390000, 32, 128, 1),dtype='uint8')\n",
        "training_txt = []\n",
        "train_input_length = np.zeros((390000, ),dtype='uint8')\n",
        "train_label_length = np.zeros((390000, ),dtype='uint8')\n",
        " \n",
        "max_label_len = 0\n",
        " \n",
        "i =0\n",
        "flag = 0\n",
        "\n",
        "for root, dirnames, filenames in os.walk(path):\n",
        "\n",
        "  for f_name in fnmatch.filter(filenames, '*.jpg'):\n",
        "      # read input image and convert into gray scale image\n",
        "      try:\n",
        "        img = cv2.cvtColor(cv2.imread(os.path.join(root, f_name)), cv2.COLOR_BGR2GRAY)   \n",
        "\n",
        "        # convert each image of shape (32, 128, 1)\n",
        "        w, h = img.shape\n",
        "        if h > 128 or w > 32:\n",
        "            continue\n",
        "\n",
        "        if w < 32:\n",
        "            add_zeros = np.ones((32-w, h))*255\n",
        "            img = np.concatenate((img, add_zeros))\n",
        "\n",
        "        if h < 128:\n",
        "            add_zeros = np.ones((32, 128-h))*255\n",
        "            img = np.concatenate((img, add_zeros), axis=1)\n",
        "        img = np.expand_dims(img , axis = 2)\n",
        "        \n",
        "        # get the text from the image\n",
        "        txt = f_name.split('_')[1]\n",
        "        \n",
        "        # compute maximum length of the text\n",
        "        if len(txt) > max_label_len:\n",
        "            max_label_len = len(txt)\n",
        "\n",
        "        if len(txt) == 0:\n",
        "          print(txt)\n",
        "          continue \n",
        "            \n",
        "        # orig_txt.append(txt)   \n",
        "        train_label_length[i]= len(txt)\n",
        "        train_input_length[i]= 31\n",
        "        training_img[i]= img\n",
        "        training_txt.append(encode_to_labels(txt)) \n",
        "\n",
        "        sys.stdout.write('\\r' + str(i) + ' ' + str(np.count_nonzero(train_label_length)))           \n",
        "        \n",
        "        # break the loop if total data is 150000\n",
        "        if i == 389999:\n",
        "            flag = 1\n",
        "            break\n",
        "        i+=1\n",
        "\n",
        "      except:\n",
        "        print('\\n' + os.path.join(root, f_name))\n",
        "      \n",
        "  if flag == 1:\n",
        "      break\n",
        "        \n",
        "# pad each output label to maximum text length\n",
        "train_padded_txt = pad_sequences(training_txt, maxlen=max_label_len, padding='post', value = len(char_list))"
      ],
      "execution_count": null,
      "outputs": []
    },
    {
      "cell_type": "code",
      "metadata": {
        "id": "YdXsxeaIHNYv",
        "colab_type": "code",
        "colab": {}
      },
      "source": [
        "train_label_length = np.array(train_label_length, dtype='uint8')\n",
        "train_input_length = np.array(train_input_length, dtype='uint8')\n",
        "training_img = np.array(training_img, dtype='uint8')\n",
        "train_padded_txt = np.array(train_padded_txt,dtype='uint8')"
      ],
      "execution_count": null,
      "outputs": []
    },
    {
      "cell_type": "code",
      "metadata": {
        "id": "o9CLbUoYHN9j",
        "colab_type": "code",
        "colab": {
          "base_uri": "https://localhost:8080/",
          "height": 85
        },
        "outputId": "cae5b229-a0e7-4e2e-ac6f-7e9b1f30b1a9"
      },
      "source": [
        "print(train_label_length.shape)\n",
        "print(train_input_length.shape)\n",
        "print(training_img.shape)\n",
        "print(train_padded_txt.shape)"
      ],
      "execution_count": 5,
      "outputs": [
        {
          "output_type": "stream",
          "text": [
            "(390000,)\n",
            "(390000,)\n",
            "(390000, 32, 128, 1)\n",
            "(390000, 22)\n"
          ],
          "name": "stdout"
        }
      ]
    },
    {
      "cell_type": "code",
      "metadata": {
        "id": "bq57D0lwHTv-",
        "colab_type": "code",
        "colab": {}
      },
      "source": [
        "np.save('/content/drive/My Drive/train_label_length.npy',train_label_length)\n",
        "np.save('/content/drive/My Drive/train_input_length.npy',train_input_length)\n",
        "np.save('/content/drive/My Drive/training_img.npy',training_img)\n",
        "np.save('/content/drive/My Drive/train_padded_txt.npy',train_padded_txt)\n",
        "np.save('/content/drive/My Drive/max_label_len.npy',max_label_len)"
      ],
      "execution_count": null,
      "outputs": []
    }
  ]
}
